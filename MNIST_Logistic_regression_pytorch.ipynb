{
  "nbformat": 4,
  "nbformat_minor": 0,
  "metadata": {
    "colab": {
      "name": "MNIST_Logistic_regression_pytorch.ipynb",
      "provenance": [],
      "collapsed_sections": []
    },
    "kernelspec": {
      "name": "python3",
      "display_name": "Python 3"
    }
  },
  "cells": [
    {
      "cell_type": "code",
      "metadata": {
        "id": "M70xd8E8JgyM",
        "colab_type": "code",
        "colab": {}
      },
      "source": [
        "import matplotlib.pyplot as plt\n",
        "%matplotlib inline"
      ],
      "execution_count": 23,
      "outputs": []
    },
    {
      "cell_type": "code",
      "metadata": {
        "id": "jUsjIcL6Dq2E",
        "colab_type": "code",
        "colab": {}
      },
      "source": [
        "import torch\n",
        "import torchvision\n",
        "from torchvision.datasets import MNIST\n",
        "import torchvision.transforms as transforms\n",
        "from torch import nn as nn\n",
        "import torch.nn.functional as F"
      ],
      "execution_count": 24,
      "outputs": []
    },
    {
      "cell_type": "code",
      "metadata": {
        "id": "1ApNu5QVIDKB",
        "colab_type": "code",
        "colab": {}
      },
      "source": [
        "# Download training dataset\n",
        "dataset = MNIST(root='data/', train=True, transform=transforms.ToTensor(), download=True)"
      ],
      "execution_count": 25,
      "outputs": []
    },
    {
      "cell_type": "code",
      "metadata": {
        "id": "ZoErvvfxIh7v",
        "colab_type": "code",
        "colab": {
          "base_uri": "https://localhost:8080/",
          "height": 121
        },
        "outputId": "35fe6da2-ebbe-4d4e-e5a1-f6bac4d8ae85"
      },
      "source": [
        "dataset"
      ],
      "execution_count": 26,
      "outputs": [
        {
          "output_type": "execute_result",
          "data": {
            "text/plain": [
              "Dataset MNIST\n",
              "    Number of datapoints: 60000\n",
              "    Root location: data/\n",
              "    Split: Train\n",
              "    StandardTransform\n",
              "Transform: ToTensor()"
            ]
          },
          "metadata": {
            "tags": []
          },
          "execution_count": 26
        }
      ]
    },
    {
      "cell_type": "code",
      "metadata": {
        "id": "jFjd1KuzIqAx",
        "colab_type": "code",
        "colab": {
          "base_uri": "https://localhost:8080/",
          "height": 121
        },
        "outputId": "9db22468-cb80-4984-ee50-800a21a09275"
      },
      "source": [
        "test_dataset = MNIST(root='data/', train=False, transform=transforms.ToTensor(), download=True)\n",
        "test_dataset"
      ],
      "execution_count": 27,
      "outputs": [
        {
          "output_type": "execute_result",
          "data": {
            "text/plain": [
              "Dataset MNIST\n",
              "    Number of datapoints: 10000\n",
              "    Root location: data/\n",
              "    Split: Test\n",
              "    StandardTransform\n",
              "Transform: ToTensor()"
            ]
          },
          "metadata": {
            "tags": []
          },
          "execution_count": 27
        }
      ]
    },
    {
      "cell_type": "code",
      "metadata": {
        "id": "O4F9-8g6Lfhx",
        "colab_type": "code",
        "colab": {
          "base_uri": "https://localhost:8080/",
          "height": 34
        },
        "outputId": "b4803a2d-9c00-4650-f532-aeda9d3c391b"
      },
      "source": [
        "image_tensor, label = dataset[0] # The first element which would otherwise be a PIL.Image object has been transformed to a tensor\n",
        "image_tensor.shape, label"
      ],
      "execution_count": 28,
      "outputs": [
        {
          "output_type": "execute_result",
          "data": {
            "text/plain": [
              "(torch.Size([1, 28, 28]), 5)"
            ]
          },
          "metadata": {
            "tags": []
          },
          "execution_count": 28
        }
      ]
    },
    {
      "cell_type": "code",
      "metadata": {
        "id": "5KId5MV6Mfkw",
        "colab_type": "code",
        "colab": {
          "base_uri": "https://localhost:8080/",
          "height": 104
        },
        "outputId": "1f8045a7-c0e8-478d-8180-9cfc5efad5cf"
      },
      "source": [
        "image_tensor[:, 10:15, 10:15]"
      ],
      "execution_count": 29,
      "outputs": [
        {
          "output_type": "execute_result",
          "data": {
            "text/plain": [
              "tensor([[[0.0039, 0.6039, 0.9922, 0.3529, 0.0000],\n",
              "         [0.0000, 0.5451, 0.9922, 0.7451, 0.0078],\n",
              "         [0.0000, 0.0431, 0.7451, 0.9922, 0.2745],\n",
              "         [0.0000, 0.0000, 0.1373, 0.9451, 0.8824],\n",
              "         [0.0000, 0.0000, 0.0000, 0.3176, 0.9412]]])"
            ]
          },
          "metadata": {
            "tags": []
          },
          "execution_count": 29
        }
      ]
    },
    {
      "cell_type": "code",
      "metadata": {
        "id": "I_qzgT5QM5Sw",
        "colab_type": "code",
        "colab": {
          "base_uri": "https://localhost:8080/",
          "height": 282
        },
        "outputId": "70918f33-669d-46df-c6f2-06749fab8cd6"
      },
      "source": [
        "# Plotting the part of img_tensor as image\n",
        "plt.imshow(image_tensor[0, 10:15, 10:15], cmap='gray')\n",
        "label"
      ],
      "execution_count": 30,
      "outputs": [
        {
          "output_type": "execute_result",
          "data": {
            "text/plain": [
              "5"
            ]
          },
          "metadata": {
            "tags": []
          },
          "execution_count": 30
        },
        {
          "output_type": "display_data",
          "data": {
            "image/png": "[encoded data removed]",
            "text/plain": [
              "<Figure size 432x288 with 1 Axes>"
            ]
          },
          "metadata": {
            "tags": [],
            "needs_background": "light"
          }
        }
      ]
    },
    {
      "cell_type": "code",
      "metadata": {
        "id": "5W4pVJhHJp52",
        "colab_type": "code",
        "colab": {
          "base_uri": "https://localhost:8080/",
          "height": 282
        },
        "outputId": "e275f1ae-af75-477d-9fa5-a754b2ae18f8"
      },
      "source": [
        "# Plotting the entire 28*28 pixel image\n",
        "plt.imshow(image_tensor[0], cmap='gray')\n",
        "label"
      ],
      "execution_count": 31,
      "outputs": [
        {
          "output_type": "execute_result",
          "data": {
            "text/plain": [
              "5"
            ]
          },
          "metadata": {
            "tags": []
          },
          "execution_count": 31
        },
        {
          "output_type": "display_data",
          "data": {
            "image/png": "[encoded data removed]",
            "text/plain": [
              "<Figure size 432x288 with 1 Axes>"
            ]
          },
          "metadata": {
            "tags": [],
            "needs_background": "light"
          }
        }
      ]
    },
    {
      "cell_type": "code",
      "metadata": {
        "id": "ZiSyTRxUKZxi",
        "colab_type": "code",
        "colab": {
          "base_uri": "https://localhost:8080/",
          "height": 34
        },
        "outputId": "237408a9-6903-4353-d602-837d53468ca2"
      },
      "source": [
        "# Create a validation dataset from training dataset\n",
        "from torch.utils.data import random_split\n",
        "train_ds, val_ds = random_split(dataset, [50000, 10000])\n",
        "len(train_ds), len(val_ds)"
      ],
      "execution_count": 32,
      "outputs": [
        {
          "output_type": "execute_result",
          "data": {
            "text/plain": [
              "(50000, 10000)"
            ]
          },
          "metadata": {
            "tags": []
          },
          "execution_count": 32
        }
      ]
    },
    {
      "cell_type": "code",
      "metadata": {
        "id": "qac-OT3FPeBm",
        "colab_type": "code",
        "colab": {}
      },
      "source": [
        "# Create dataloader to train and validate in batches\n",
        "from torch.utils.data import DataLoader\n",
        "batch_size = 64\n",
        "train_dl = DataLoader(train_ds, batch_size, shuffle=True)\n",
        "val_dl = DataLoader(val_ds, batch_size)"
      ],
      "execution_count": 33,
      "outputs": []
    },
    {
      "cell_type": "code",
      "metadata": {
        "id": "DAF8wi_NkayH",
        "colab_type": "code",
        "colab": {}
      },
      "source": [
        "class MnistModel(nn.Module):\n",
        "    def __init__(self, input_size, num_classes):\n",
        "        super().__init__()\n",
        "        self.input_size = input_size\n",
        "        self.num_classes = num_classes\n",
        "        self.linear = nn.Linear(input_size, num_classes)\n",
        "                      \n",
        "    def forward(self, xb):\n",
        "        xb = xb.reshape(-1, self.input_size)\n",
        "        out = self.linear(xb)\n",
        "        return out\n",
        "    \n",
        "    def accuracy(self, outputs, labels):\n",
        "        probs = F.softmax(outputs, dim=1)\n",
        "        _, preds = torch.max(outputs, dim=1)\n",
        "        return torch.tensor(torch.sum(preds == labels).item()/len(preds), dtype=torch.float)\n",
        "    \n",
        "    def training_step(self, batch):\n",
        "      images, labels = batch\n",
        "      out = self(images) # Generate predictions\n",
        "      loss = F.cross_entropy(out, labels) # Calculate the loss\n",
        "      return loss\n",
        "    \n",
        "    def validation_step(self, batch):\n",
        "      images, labels = batch\n",
        "      out = self(images)\n",
        "      loss = F.cross_entropy(out, labels)\n",
        "      acc = self.accuracy(out, labels)\n",
        "      return {'val_loss': loss, 'val_acc': acc}\n",
        "    \n",
        "    def validation_epoch_end(self, outputs):\n",
        "      batch_losses = [x['val_loss'] for x in outputs]\n",
        "      epoch_loss = torch.stack(batch_losses).mean() # combine losses\n",
        "      batch_accs = [x['val_acc'] for x in outputs]\n",
        "      epoch_acc = torch.stack(batch_accs).mean() # combine accuracies\n",
        "      return {'val_loss': epoch_loss.item(), 'val_acc': epoch_acc.item()}\n",
        "    \n",
        "    def epoch_end(self, epoch, result):\n",
        "      print('Epoch: {0}, val_loss: {1:.4f}, val_acc: {2:.4f}'.format(epoch, result['val_loss'], result['val_acc']))\n",
        "\n",
        "\n",
        "model = MnistModel(input_size = 28*28, num_classes = 10)"
      ],
      "execution_count": 34,
      "outputs": []
    },
    {
      "cell_type": "code",
      "metadata": {
        "id": "C_YVF4ubrMDe",
        "colab_type": "code",
        "colab": {}
      },
      "source": [
        "# evaluate() to validates the model for each epoch\n",
        "def evaluate(model, val_loader):\n",
        "  outputs = [model.validation_step(batch) for batch in val_loader]\n",
        "  return model.validation_epoch_end(outputs)\n",
        "\n",
        "# fit() is to train the model\n",
        "def fit(num_epochs, model, train_dl, val_dl, lr, opt_fn=torch.optim.SGD):\n",
        "  history = []\n",
        "  optimizer = opt_fn(model.parameters(), lr)\n",
        "  for epoch in range(num_epochs):\n",
        "    # Training phase\n",
        "    for batch in train_dl:\n",
        "      loss = model.training_step(batch)\n",
        "      loss.backward()\n",
        "      optimizer.step()\n",
        "      optimizer.zero_grad()\n",
        "    # Validation phase\n",
        "    result = evaluate(model, val_dl)\n",
        "    model.epoch_end(epoch, result)\n",
        "    history.append(result)\n",
        "  return history"
      ],
      "execution_count": 35,
      "outputs": []
    },
    {
      "cell_type": "code",
      "metadata": {
        "id": "ghKouNiFuhaS",
        "colab_type": "code",
        "colab": {
          "base_uri": "https://localhost:8080/",
          "height": 104
        },
        "outputId": "ba9fc9ea-6dde-4069-d61b-8a8e37cd3162"
      },
      "source": [
        "history1 = fit(5, model, train_dl, val_dl, 0.001, torch.optim.SGD)"
      ],
      "execution_count": 36,
      "outputs": [
        {
          "output_type": "stream",
          "text": [
            "Epoch: 0, val_loss: 1.6928, val_acc: 0.7188\n",
            "Epoch: 1, val_loss: 1.3401, val_acc: 0.7729\n",
            "Epoch: 2, val_loss: 1.1310, val_acc: 0.7954\n",
            "Epoch: 3, val_loss: 0.9969, val_acc: 0.8126\n",
            "Epoch: 4, val_loss: 0.9042, val_acc: 0.8228\n"
          ],
          "name": "stdout"
        }
      ]
    },
    {
      "cell_type": "code",
      "metadata": {
        "id": "dlOkD-syyQys",
        "colab_type": "code",
        "colab": {
          "base_uri": "https://localhost:8080/",
          "height": 104
        },
        "outputId": "25d9ae95-31f7-46c5-d730-4b63b7e5530d"
      },
      "source": [
        "history2 = fit(5, model, train_dl, val_dl, 0.001, torch.optim.SGD)"
      ],
      "execution_count": 37,
      "outputs": [
        {
          "output_type": "stream",
          "text": [
            "Epoch: 0, val_loss: 0.8364, val_acc: 0.8291\n",
            "Epoch: 1, val_loss: 0.7844, val_acc: 0.8348\n",
            "Epoch: 2, val_loss: 0.7434, val_acc: 0.8385\n",
            "Epoch: 3, val_loss: 0.7099, val_acc: 0.8423\n",
            "Epoch: 4, val_loss: 0.6821, val_acc: 0.8452\n"
          ],
          "name": "stdout"
        }
      ]
    },
    {
      "cell_type": "code",
      "metadata": {
        "id": "qyyBRaVZyh6W",
        "colab_type": "code",
        "colab": {
          "base_uri": "https://localhost:8080/",
          "height": 104
        },
        "outputId": "7eb2ee0c-fc27-40bc-eed2-acf67910baea"
      },
      "source": [
        "history3 = fit(5, model, train_dl, val_dl, 0.001, torch.optim.SGD)"
      ],
      "execution_count": 38,
      "outputs": [
        {
          "output_type": "stream",
          "text": [
            "Epoch: 0, val_loss: 0.6586, val_acc: 0.8491\n",
            "Epoch: 1, val_loss: 0.6383, val_acc: 0.8512\n",
            "Epoch: 2, val_loss: 0.6208, val_acc: 0.8540\n",
            "Epoch: 3, val_loss: 0.6052, val_acc: 0.8562\n",
            "Epoch: 4, val_loss: 0.5915, val_acc: 0.8576\n"
          ],
          "name": "stdout"
        }
      ]
    },
    {
      "cell_type": "code",
      "metadata": {
        "id": "FvtF-5WwywuB",
        "colab_type": "code",
        "colab": {
          "base_uri": "https://localhost:8080/",
          "height": 104
        },
        "outputId": "7183dae2-fd15-48c0-bdac-139d71b4117b"
      },
      "source": [
        "history1"
      ],
      "execution_count": 39,
      "outputs": [
        {
          "output_type": "execute_result",
          "data": {
            "text/plain": [
              "[{'val_acc': 0.7188495397567749, 'val_loss': 1.6927748918533325},\n",
              " {'val_acc': 0.7728901505470276, 'val_loss': 1.340053915977478},\n",
              " {'val_acc': 0.7953821420669556, 'val_loss': 1.1310263872146606},\n",
              " {'val_acc': 0.8125995397567749, 'val_loss': 0.9969124794006348},\n",
              " {'val_acc': 0.8227508068084717, 'val_loss': 0.9041606187820435}]"
            ]
          },
          "metadata": {
            "tags": []
          },
          "execution_count": 39
        }
      ]
    },
    {
      "cell_type": "code",
      "metadata": {
        "id": "42xam9tozcgw",
        "colab_type": "code",
        "colab": {
          "base_uri": "https://localhost:8080/",
          "height": 312
        },
        "outputId": "7308c804-5b72-4187-ed41-a7cb7cc8a679"
      },
      "source": [
        "plt.xlabel('epoch')\n",
        "plt.ylabel('accuracy')\n",
        "history = history1 + history2 + history3\n",
        "epochs = [i for i in range(1, len(history)+1)]\n",
        "accuracies = [x['val_acc'] for x in history]\n",
        "plt.plot(epochs, accuracies)\n",
        "plt.title('Accuracy vs no_of epochs')"
      ],
      "execution_count": 43,
      "outputs": [
        {
          "output_type": "execute_result",
          "data": {
            "text/plain": [
              "Text(0.5, 1.0, 'Accuracy vs no_of epochs')"
            ]
          },
          "metadata": {
            "tags": []
          },
          "execution_count": 43
        },
        {
          "output_type": "display_data",
          "data": {
            "image/png": "[encoded data removed]",
            "text/plain": [
              "<Figure size 432x288 with 1 Axes>"
            ]
          },
          "metadata": {
            "tags": [],
            "needs_background": "light"
          }
        }
      ]
    }
  ]
}